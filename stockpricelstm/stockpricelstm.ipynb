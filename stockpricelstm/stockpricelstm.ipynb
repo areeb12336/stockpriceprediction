{
 "cells": [
  {
   "cell_type": "code",
   "execution_count": 1,
   "id": "64fb0a53",
   "metadata": {},
   "outputs": [],
   "source": [
    "import pandas_datareader as pdr\n",
    "key=\"10fe6784ec51c030901cbe2c84629a98d0c14efb\""
   ]
  },
  {
   "cell_type": "code",
   "execution_count": 2,
   "id": "e91e0b11",
   "metadata": {},
   "outputs": [
    {
     "name": "stderr",
     "output_type": "stream",
     "text": [
      "D:\\anaconda\\lib\\site-packages\\pandas_datareader\\tiingo.py:234: FutureWarning: In a future version of pandas all arguments of concat except for the argument 'objs' will be keyword-only\n",
      "  return pd.concat(dfs, self._concat_axis)\n"
     ]
    }
   ],
   "source": [
    "df = pdr.get_data_tiingo('TSLA', api_key=key)"
   ]
  },
  {
   "cell_type": "code",
   "execution_count": 3,
   "id": "f89ce5d2",
   "metadata": {
    "scrolled": true
   },
   "outputs": [
    {
     "data": {
      "text/html": [
       "<div>\n",
       "<style scoped>\n",
       "    .dataframe tbody tr th:only-of-type {\n",
       "        vertical-align: middle;\n",
       "    }\n",
       "\n",
       "    .dataframe tbody tr th {\n",
       "        vertical-align: top;\n",
       "    }\n",
       "\n",
       "    .dataframe thead th {\n",
       "        text-align: right;\n",
       "    }\n",
       "</style>\n",
       "<table border=\"1\" class=\"dataframe\">\n",
       "  <thead>\n",
       "    <tr style=\"text-align: right;\">\n",
       "      <th></th>\n",
       "      <th></th>\n",
       "      <th>close</th>\n",
       "      <th>high</th>\n",
       "      <th>low</th>\n",
       "      <th>open</th>\n",
       "      <th>volume</th>\n",
       "      <th>adjClose</th>\n",
       "      <th>adjHigh</th>\n",
       "      <th>adjLow</th>\n",
       "      <th>adjOpen</th>\n",
       "      <th>adjVolume</th>\n",
       "      <th>divCash</th>\n",
       "      <th>splitFactor</th>\n",
       "    </tr>\n",
       "    <tr>\n",
       "      <th>symbol</th>\n",
       "      <th>date</th>\n",
       "      <th></th>\n",
       "      <th></th>\n",
       "      <th></th>\n",
       "      <th></th>\n",
       "      <th></th>\n",
       "      <th></th>\n",
       "      <th></th>\n",
       "      <th></th>\n",
       "      <th></th>\n",
       "      <th></th>\n",
       "      <th></th>\n",
       "      <th></th>\n",
       "    </tr>\n",
       "  </thead>\n",
       "  <tbody>\n",
       "    <tr>\n",
       "      <th rowspan=\"11\" valign=\"top\">TSLA</th>\n",
       "      <th>2017-06-13 00:00:00+00:00</th>\n",
       "      <td>375.95</td>\n",
       "      <td>376.0000</td>\n",
       "      <td>366.61</td>\n",
       "      <td>367.620</td>\n",
       "      <td>11693404</td>\n",
       "      <td>75.190</td>\n",
       "      <td>75.2000</td>\n",
       "      <td>73.322</td>\n",
       "      <td>73.524</td>\n",
       "      <td>58467020</td>\n",
       "      <td>0.0</td>\n",
       "      <td>1.0</td>\n",
       "    </tr>\n",
       "    <tr>\n",
       "      <th>2017-06-14 00:00:00+00:00</th>\n",
       "      <td>380.66</td>\n",
       "      <td>384.2500</td>\n",
       "      <td>376.31</td>\n",
       "      <td>381.085</td>\n",
       "      <td>12731997</td>\n",
       "      <td>76.132</td>\n",
       "      <td>76.8500</td>\n",
       "      <td>75.262</td>\n",
       "      <td>76.217</td>\n",
       "      <td>63659985</td>\n",
       "      <td>0.0</td>\n",
       "      <td>1.0</td>\n",
       "    </tr>\n",
       "    <tr>\n",
       "      <th>2017-06-15 00:00:00+00:00</th>\n",
       "      <td>375.34</td>\n",
       "      <td>375.4600</td>\n",
       "      <td>366.49</td>\n",
       "      <td>372.500</td>\n",
       "      <td>10371559</td>\n",
       "      <td>75.068</td>\n",
       "      <td>75.0920</td>\n",
       "      <td>73.298</td>\n",
       "      <td>74.500</td>\n",
       "      <td>51857795</td>\n",
       "      <td>0.0</td>\n",
       "      <td>1.0</td>\n",
       "    </tr>\n",
       "    <tr>\n",
       "      <th>2017-06-16 00:00:00+00:00</th>\n",
       "      <td>371.40</td>\n",
       "      <td>378.0100</td>\n",
       "      <td>370.10</td>\n",
       "      <td>377.975</td>\n",
       "      <td>6259666</td>\n",
       "      <td>74.280</td>\n",
       "      <td>75.6020</td>\n",
       "      <td>74.020</td>\n",
       "      <td>75.595</td>\n",
       "      <td>31298330</td>\n",
       "      <td>0.0</td>\n",
       "      <td>1.0</td>\n",
       "    </tr>\n",
       "    <tr>\n",
       "      <th>2017-06-19 00:00:00+00:00</th>\n",
       "      <td>369.80</td>\n",
       "      <td>376.7000</td>\n",
       "      <td>367.80</td>\n",
       "      <td>375.000</td>\n",
       "      <td>6392331</td>\n",
       "      <td>73.960</td>\n",
       "      <td>75.3400</td>\n",
       "      <td>73.560</td>\n",
       "      <td>75.000</td>\n",
       "      <td>31961655</td>\n",
       "      <td>0.0</td>\n",
       "      <td>1.0</td>\n",
       "    </tr>\n",
       "    <tr>\n",
       "      <th>...</th>\n",
       "      <td>...</td>\n",
       "      <td>...</td>\n",
       "      <td>...</td>\n",
       "      <td>...</td>\n",
       "      <td>...</td>\n",
       "      <td>...</td>\n",
       "      <td>...</td>\n",
       "      <td>...</td>\n",
       "      <td>...</td>\n",
       "      <td>...</td>\n",
       "      <td>...</td>\n",
       "      <td>...</td>\n",
       "    </tr>\n",
       "    <tr>\n",
       "      <th>2022-06-06 00:00:00+00:00</th>\n",
       "      <td>714.84</td>\n",
       "      <td>734.6000</td>\n",
       "      <td>703.05</td>\n",
       "      <td>733.060</td>\n",
       "      <td>28068174</td>\n",
       "      <td>714.840</td>\n",
       "      <td>734.6000</td>\n",
       "      <td>703.050</td>\n",
       "      <td>733.060</td>\n",
       "      <td>28068174</td>\n",
       "      <td>0.0</td>\n",
       "      <td>1.0</td>\n",
       "    </tr>\n",
       "    <tr>\n",
       "      <th>2022-06-07 00:00:00+00:00</th>\n",
       "      <td>716.66</td>\n",
       "      <td>719.9900</td>\n",
       "      <td>690.28</td>\n",
       "      <td>702.000</td>\n",
       "      <td>24269534</td>\n",
       "      <td>716.660</td>\n",
       "      <td>719.9900</td>\n",
       "      <td>690.280</td>\n",
       "      <td>702.000</td>\n",
       "      <td>24269534</td>\n",
       "      <td>0.0</td>\n",
       "      <td>1.0</td>\n",
       "    </tr>\n",
       "    <tr>\n",
       "      <th>2022-06-08 00:00:00+00:00</th>\n",
       "      <td>725.60</td>\n",
       "      <td>749.8900</td>\n",
       "      <td>717.53</td>\n",
       "      <td>720.260</td>\n",
       "      <td>25403540</td>\n",
       "      <td>725.600</td>\n",
       "      <td>749.8900</td>\n",
       "      <td>717.530</td>\n",
       "      <td>720.260</td>\n",
       "      <td>25403540</td>\n",
       "      <td>0.0</td>\n",
       "      <td>1.0</td>\n",
       "    </tr>\n",
       "    <tr>\n",
       "      <th>2022-06-09 00:00:00+00:00</th>\n",
       "      <td>719.12</td>\n",
       "      <td>766.6399</td>\n",
       "      <td>717.98</td>\n",
       "      <td>748.020</td>\n",
       "      <td>32163769</td>\n",
       "      <td>719.120</td>\n",
       "      <td>766.6399</td>\n",
       "      <td>717.980</td>\n",
       "      <td>748.020</td>\n",
       "      <td>32163769</td>\n",
       "      <td>0.0</td>\n",
       "      <td>1.0</td>\n",
       "    </tr>\n",
       "    <tr>\n",
       "      <th>2022-06-10 00:00:00+00:00</th>\n",
       "      <td>696.69</td>\n",
       "      <td>718.5000</td>\n",
       "      <td>683.74</td>\n",
       "      <td>705.470</td>\n",
       "      <td>32696966</td>\n",
       "      <td>696.690</td>\n",
       "      <td>718.5000</td>\n",
       "      <td>683.740</td>\n",
       "      <td>705.470</td>\n",
       "      <td>32696966</td>\n",
       "      <td>0.0</td>\n",
       "      <td>1.0</td>\n",
       "    </tr>\n",
       "  </tbody>\n",
       "</table>\n",
       "<p>1259 rows × 12 columns</p>\n",
       "</div>"
      ],
      "text/plain": [
       "                                   close      high     low     open    volume  \\\n",
       "symbol date                                                                     \n",
       "TSLA   2017-06-13 00:00:00+00:00  375.95  376.0000  366.61  367.620  11693404   \n",
       "       2017-06-14 00:00:00+00:00  380.66  384.2500  376.31  381.085  12731997   \n",
       "       2017-06-15 00:00:00+00:00  375.34  375.4600  366.49  372.500  10371559   \n",
       "       2017-06-16 00:00:00+00:00  371.40  378.0100  370.10  377.975   6259666   \n",
       "       2017-06-19 00:00:00+00:00  369.80  376.7000  367.80  375.000   6392331   \n",
       "...                                  ...       ...     ...      ...       ...   \n",
       "       2022-06-06 00:00:00+00:00  714.84  734.6000  703.05  733.060  28068174   \n",
       "       2022-06-07 00:00:00+00:00  716.66  719.9900  690.28  702.000  24269534   \n",
       "       2022-06-08 00:00:00+00:00  725.60  749.8900  717.53  720.260  25403540   \n",
       "       2022-06-09 00:00:00+00:00  719.12  766.6399  717.98  748.020  32163769   \n",
       "       2022-06-10 00:00:00+00:00  696.69  718.5000  683.74  705.470  32696966   \n",
       "\n",
       "                                  adjClose   adjHigh   adjLow  adjOpen  \\\n",
       "symbol date                                                              \n",
       "TSLA   2017-06-13 00:00:00+00:00    75.190   75.2000   73.322   73.524   \n",
       "       2017-06-14 00:00:00+00:00    76.132   76.8500   75.262   76.217   \n",
       "       2017-06-15 00:00:00+00:00    75.068   75.0920   73.298   74.500   \n",
       "       2017-06-16 00:00:00+00:00    74.280   75.6020   74.020   75.595   \n",
       "       2017-06-19 00:00:00+00:00    73.960   75.3400   73.560   75.000   \n",
       "...                                    ...       ...      ...      ...   \n",
       "       2022-06-06 00:00:00+00:00   714.840  734.6000  703.050  733.060   \n",
       "       2022-06-07 00:00:00+00:00   716.660  719.9900  690.280  702.000   \n",
       "       2022-06-08 00:00:00+00:00   725.600  749.8900  717.530  720.260   \n",
       "       2022-06-09 00:00:00+00:00   719.120  766.6399  717.980  748.020   \n",
       "       2022-06-10 00:00:00+00:00   696.690  718.5000  683.740  705.470   \n",
       "\n",
       "                                  adjVolume  divCash  splitFactor  \n",
       "symbol date                                                        \n",
       "TSLA   2017-06-13 00:00:00+00:00   58467020      0.0          1.0  \n",
       "       2017-06-14 00:00:00+00:00   63659985      0.0          1.0  \n",
       "       2017-06-15 00:00:00+00:00   51857795      0.0          1.0  \n",
       "       2017-06-16 00:00:00+00:00   31298330      0.0          1.0  \n",
       "       2017-06-19 00:00:00+00:00   31961655      0.0          1.0  \n",
       "...                                     ...      ...          ...  \n",
       "       2022-06-06 00:00:00+00:00   28068174      0.0          1.0  \n",
       "       2022-06-07 00:00:00+00:00   24269534      0.0          1.0  \n",
       "       2022-06-08 00:00:00+00:00   25403540      0.0          1.0  \n",
       "       2022-06-09 00:00:00+00:00   32163769      0.0          1.0  \n",
       "       2022-06-10 00:00:00+00:00   32696966      0.0          1.0  \n",
       "\n",
       "[1259 rows x 12 columns]"
      ]
     },
     "execution_count": 3,
     "metadata": {},
     "output_type": "execute_result"
    }
   ],
   "source": [
    "df"
   ]
  },
  {
   "cell_type": "code",
   "execution_count": 4,
   "id": "ff8fb143",
   "metadata": {},
   "outputs": [],
   "source": [
    "df1=df.reset_index()['close']"
   ]
  },
  {
   "cell_type": "code",
   "execution_count": 5,
   "id": "505a9236",
   "metadata": {},
   "outputs": [
    {
     "data": {
      "text/plain": [
       "0       375.95\n",
       "1       380.66\n",
       "2       375.34\n",
       "3       371.40\n",
       "4       369.80\n",
       "         ...  \n",
       "1254    714.84\n",
       "1255    716.66\n",
       "1256    725.60\n",
       "1257    719.12\n",
       "1258    696.69\n",
       "Name: close, Length: 1259, dtype: float64"
      ]
     },
     "execution_count": 5,
     "metadata": {},
     "output_type": "execute_result"
    }
   ],
   "source": [
    "df1"
   ]
  },
  {
   "cell_type": "code",
   "execution_count": 6,
   "id": "a90521ea",
   "metadata": {},
   "outputs": [
    {
     "data": {
      "text/plain": [
       "[<matplotlib.lines.Line2D at 0x2176f4cafd0>]"
      ]
     },
     "execution_count": 6,
     "metadata": {},
     "output_type": "execute_result"
    },
    {
     "data": {
      "image/png": "[encoded data removed]",
      "text/plain": [
       "<Figure size 432x288 with 1 Axes>"
      ]
     },
     "metadata": {
      "needs_background": "light"
     },
     "output_type": "display_data"
    }
   ],
   "source": [
    "import matplotlib.pyplot as plt\n",
    "plt.plot(df1)"
   ]
  },
  {
   "cell_type": "code",
   "execution_count": 7,
   "id": "0a6ccf5f",
   "metadata": {},
   "outputs": [
    {
     "name": "stdout",
     "output_type": "stream",
     "text": [
      "[[0.09563157]\n",
      " [0.09791822]\n",
      " [0.09533542]\n",
      " ...\n",
      " [0.26538271]\n",
      " [0.26223674]\n",
      " [0.25134723]]\n",
      "(1259, 1)\n"
     ]
    }
   ],
   "source": [
    "import numpy as np\n",
    "from sklearn.preprocessing import MinMaxScaler\n",
    "scaler=MinMaxScaler(feature_range=(0,1))\n",
    "df1=scaler.fit_transform(np.array(df1).reshape(-1,1))\n",
    "print(df1)\n",
    "print(df1.shape)"
   ]
  },
  {
   "cell_type": "code",
   "execution_count": 8,
   "id": "2bbc37ad",
   "metadata": {},
   "outputs": [],
   "source": [
    "training_size=int(len(df1)*0.65)\n",
    "test_size=len(df1)-training_size\n",
    "train_data,test_data=df1[0:training_size,:],df1[training_size:len(df1),:1]"
   ]
  },
  {
   "cell_type": "code",
   "execution_count": 9,
   "id": "acaf0341",
   "metadata": {},
   "outputs": [],
   "source": [
    "import numpy\n",
    "# convert an array of values into a dataset matrix\n",
    "def create_dataset(dataset, time_step=1):\n",
    "\tdataX, dataY = [], []\n",
    "\tfor i in range(len(dataset)-time_step-1):\n",
    "\t\ta = dataset[i:(i+time_step), 0]   ###i=0, 0,1,2,3-----99   100 \n",
    "\t\tdataX.append(a)\n",
    "\t\tdataY.append(dataset[i + time_step, 0])\n",
    "\treturn numpy.array(dataX), numpy.array(dataY)"
   ]
  },
  {
   "cell_type": "code",
   "execution_count": 10,
   "id": "1a5319ea",
   "metadata": {},
   "outputs": [
    {
     "name": "stdout",
     "output_type": "stream",
     "text": [
      "(420, 20)\n",
      "(420,)\n",
      "(797, 20)\n",
      "(797,)\n"
     ]
    },
    {
     "data": {
      "text/plain": [
       "(None, None)"
      ]
     },
     "execution_count": 10,
     "metadata": {},
     "output_type": "execute_result"
    }
   ],
   "source": [
    "time_step = 20\n",
    "X_train, y_train = create_dataset(train_data, time_step)\n",
    "X_test, y_test = create_dataset(test_data, time_step)\n",
    "\n",
    "print(X_test.shape), print(y_test.shape)\n",
    "print(X_train.shape), print(y_train.shape)"
   ]
  },
  {
   "cell_type": "code",
   "execution_count": 11,
   "id": "50ee172e",
   "metadata": {},
   "outputs": [],
   "source": [
    "X_train =X_train.reshape(X_train.shape[0],X_train.shape[1] , 1)\n",
    "X_test = X_test.reshape(X_test.shape[0],X_test.shape[1] , 1)"
   ]
  },
  {
   "cell_type": "code",
   "execution_count": 12,
   "id": "87a51e8d",
   "metadata": {},
   "outputs": [
    {
     "name": "stdout",
     "output_type": "stream",
     "text": [
      "(420, 20, 1)\n",
      "(420,)\n",
      "(797, 20, 1)\n",
      "(797,)\n"
     ]
    },
    {
     "data": {
      "text/plain": [
       "(None, None)"
      ]
     },
     "execution_count": 12,
     "metadata": {},
     "output_type": "execute_result"
    }
   ],
   "source": [
    "print(X_test.shape), print(y_test.shape)\n",
    "print(X_train.shape), print(y_train.shape)"
   ]
  },
  {
   "cell_type": "code",
   "execution_count": 13,
   "id": "2bba600d",
   "metadata": {},
   "outputs": [],
   "source": [
    "from tensorflow.keras.models import Sequential\n",
    "from tensorflow.keras.layers import Dense\n",
    "from tensorflow.keras.layers import LSTM\n",
    "model=Sequential()\n",
    "model.add(LSTM(50,return_sequences=True,input_shape=(20,1)))\n",
    "model.add(LSTM(50,return_sequences=True))\n",
    "model.add(LSTM(50))\n",
    "model.add(Dense(1))\n",
    "model.compile(loss='mean_squared_error',optimizer='adam')"
   ]
  },
  {
   "cell_type": "code",
   "execution_count": 14,
   "id": "97669f9a",
   "metadata": {},
   "outputs": [
    {
     "name": "stdout",
     "output_type": "stream",
     "text": [
      "Model: \"sequential\"\n",
      "_________________________________________________________________\n",
      " Layer (type)                Output Shape              Param #   \n",
      "=================================================================\n",
      " lstm (LSTM)                 (None, 20, 50)            10400     \n",
      "                                                                 \n",
      " lstm_1 (LSTM)               (None, 20, 50)            20200     \n",
      "                                                                 \n",
      " lstm_2 (LSTM)               (None, 50)                20200     \n",
      "                                                                 \n",
      " dense (Dense)               (None, 1)                 51        \n",
      "                                                                 \n",
      "=================================================================\n",
      "Total params: 50,851\n",
      "Trainable params: 50,851\n",
      "Non-trainable params: 0\n",
      "_________________________________________________________________\n"
     ]
    }
   ],
   "source": [
    "model.summary()"
   ]
  },
  {
   "cell_type": "code",
   "execution_count": 15,
   "id": "934d7ce7",
   "metadata": {},
   "outputs": [
    {
     "data": {
      "text/plain": [
       "<keras.callbacks.History at 0x21701438610>"
      ]
     },
     "execution_count": 15,
     "metadata": {},
     "output_type": "execute_result"
    }
   ],
   "source": [
    "model.fit(X_train,y_train,validation_data=(X_test,y_test),epochs=100,batch_size=64,verbose=0)"
   ]
  },
  {
   "cell_type": "code",
   "execution_count": 16,
   "id": "7b80a758",
   "metadata": {},
   "outputs": [
    {
     "name": "stdout",
     "output_type": "stream",
     "text": [
      "25/25 [==============================] - 1s 4ms/step\n",
      "14/14 [==============================] - 0s 5ms/step\n"
     ]
    }
   ],
   "source": [
    "train_predict=model.predict(X_train)\n",
    "test_predict=model.predict(X_test)"
   ]
  },
  {
   "cell_type": "code",
   "execution_count": 17,
   "id": "d36ad32f",
   "metadata": {
    "scrolled": true
   },
   "outputs": [],
   "source": [
    "train_predict=scaler.inverse_transform(train_predict)\n",
    "test_predict=scaler.inverse_transform(test_predict)"
   ]
  },
  {
   "cell_type": "code",
   "execution_count": 18,
   "id": "8ac904a9",
   "metadata": {},
   "outputs": [
    {
     "data": {
      "text/plain": [
       "529.5403136281321"
      ]
     },
     "execution_count": 18,
     "metadata": {},
     "output_type": "execute_result"
    }
   ],
   "source": [
    "import math\n",
    "from sklearn.metrics import mean_squared_error\n",
    "math.sqrt(mean_squared_error(y_train,train_predict))"
   ]
  },
  {
   "cell_type": "code",
   "execution_count": 19,
   "id": "3ff2e5d5",
   "metadata": {},
   "outputs": [
    {
     "data": {
      "text/plain": [
       "794.382832252763"
      ]
     },
     "execution_count": 19,
     "metadata": {},
     "output_type": "execute_result"
    }
   ],
   "source": [
    "math.sqrt(mean_squared_error(y_test,test_predict))"
   ]
  },
  {
   "cell_type": "code",
   "execution_count": 20,
   "id": "ac969cda",
   "metadata": {},
   "outputs": [
    {
     "data": {
      "image/png": "[encoded data removed]",
      "text/plain": [
       "<Figure size 432x288 with 1 Axes>"
      ]
     },
     "metadata": {
      "needs_background": "light"
     },
     "output_type": "display_data"
    }
   ],
   "source": [
    "\n",
    "look_back=20\n",
    "trainPredictPlot = numpy.empty_like(df1)\n",
    "trainPredictPlot[:, :] = np.nan\n",
    "trainPredictPlot[look_back:len(train_predict)+look_back, :] = train_predict\n",
    "\n",
    "testPredictPlot = numpy.empty_like(df1)\n",
    "testPredictPlot[:, :] = numpy.nan\n",
    "testPredictPlot[len(train_predict)+(look_back*2)+1:len(df1)-1, :] = test_predict\n",
    "\n",
    "plt.plot(scaler.inverse_transform(df1))\n",
    "plt.plot(trainPredictPlot)\n",
    "plt.plot(testPredictPlot)\n",
    "plt.show()"
   ]
  },
  {
   "cell_type": "code",
   "execution_count": 21,
   "id": "298f1e5d",
   "metadata": {},
   "outputs": [
    {
     "data": {
      "text/plain": [
       "441"
      ]
     },
     "execution_count": 21,
     "metadata": {},
     "output_type": "execute_result"
    }
   ],
   "source": [
    "len(test_data)"
   ]
  },
  {
   "cell_type": "code",
   "execution_count": 22,
   "id": "e3c0a40d",
   "metadata": {},
   "outputs": [
    {
     "data": {
      "text/plain": [
       "(1, 20)"
      ]
     },
     "execution_count": 22,
     "metadata": {},
     "output_type": "execute_result"
    }
   ],
   "source": [
    "x_input=test_data[421:].reshape(1,-1)\n",
    "x_input.shape"
   ]
  },
  {
   "cell_type": "code",
   "execution_count": 23,
   "id": "b627e77a",
   "metadata": {},
   "outputs": [],
   "source": [
    "temp_input=list(x_input)\n",
    "temp_input=temp_input[0].tolist()"
   ]
  },
  {
   "cell_type": "code",
   "execution_count": 24,
   "id": "c4fcfbe9",
   "metadata": {},
   "outputs": [
    {
     "name": "stdout",
     "output_type": "stream",
     "text": [
      "[0.2586582]\n",
      "21\n",
      "1 day input [0.26478556 0.28286516 0.25771684 0.2575275  0.23542806 0.24076843\n",
      " 0.21807669 0.23295206 0.25670703 0.28190389 0.28123877 0.27255338\n",
      " 0.28936585 0.25467768 0.26015885 0.26104244 0.26538271 0.26223674\n",
      " 0.25134723 0.2586582 ]\n",
      "1 day output [[0.25555977]]\n",
      "2 day input [0.28286516 0.25771684 0.2575275  0.23542806 0.24076843 0.21807669\n",
      " 0.23295206 0.25670703 0.28190389 0.28123877 0.27255338 0.28936585\n",
      " 0.25467768 0.26015885 0.26104244 0.26538271 0.26223674 0.25134723\n",
      " 0.2586582  0.25555977]\n",
      "2 day output [[0.25341046]]\n",
      "3 day input [0.25771684 0.2575275  0.23542806 0.24076843 0.21807669 0.23295206\n",
      " 0.25670703 0.28190389 0.28123877 0.27255338 0.28936585 0.25467768\n",
      " 0.26015885 0.26104244 0.26538271 0.26223674 0.25134723 0.2586582\n",
      " 0.25555977 0.25341046]\n",
      "3 day output [[0.251821]]\n",
      "4 day input [0.2575275  0.23542806 0.24076843 0.21807669 0.23295206 0.25670703\n",
      " 0.28190389 0.28123877 0.27255338 0.28936585 0.25467768 0.26015885\n",
      " 0.26104244 0.26538271 0.26223674 0.25134723 0.2586582  0.25555977\n",
      " 0.25341046 0.25182101]\n",
      "4 day output [[0.2506024]]\n",
      "5 day input [0.23542806 0.24076843 0.21807669 0.23295206 0.25670703 0.28190389\n",
      " 0.28123877 0.27255338 0.28936585 0.25467768 0.26015885 0.26104244\n",
      " 0.26538271 0.26223674 0.25134723 0.2586582  0.25555977 0.25341046\n",
      " 0.25182101 0.25060239]\n",
      "5 day output [[0.24955083]]\n",
      "6 day input [0.24076843 0.21807669 0.23295206 0.25670703 0.28190389 0.28123877\n",
      " 0.27255338 0.28936585 0.25467768 0.26015885 0.26104244 0.26538271\n",
      " 0.26223674 0.25134723 0.2586582  0.25555977 0.25341046 0.25182101\n",
      " 0.25060239 0.24955083]\n",
      "6 day output [[0.2486006]]\n",
      "7 day input [0.21807669 0.23295206 0.25670703 0.28190389 0.28123877 0.27255338\n",
      " 0.28936585 0.25467768 0.26015885 0.26104244 0.26538271 0.26223674\n",
      " 0.25134723 0.2586582  0.25555977 0.25341046 0.25182101 0.25060239\n",
      " 0.24955083 0.2486006 ]\n",
      "7 day output [[0.24766149]]\n",
      "8 day input [0.23295206 0.25670703 0.28190389 0.28123877 0.27255338 0.28936585\n",
      " 0.25467768 0.26015885 0.26104244 0.26538271 0.26223674 0.25134723\n",
      " 0.2586582  0.25555977 0.25341046 0.25182101 0.25060239 0.24955083\n",
      " 0.2486006  0.24766149]\n",
      "8 day output [[0.2467411]]\n",
      "9 day input [0.25670703 0.28190389 0.28123877 0.27255338 0.28936585 0.25467768\n",
      " 0.26015885 0.26104244 0.26538271 0.26223674 0.25134723 0.2586582\n",
      " 0.25555977 0.25341046 0.25182101 0.25060239 0.24955083 0.2486006\n",
      " 0.24766149 0.2467411 ]\n",
      "9 day output [[0.24576625]]\n",
      "10 day input [0.28190389 0.28123877 0.27255338 0.28936585 0.25467768 0.26015885\n",
      " 0.26104244 0.26538271 0.26223674 0.25134723 0.2586582  0.25555977\n",
      " 0.25341046 0.25182101 0.25060239 0.24955083 0.2486006  0.24766149\n",
      " 0.2467411  0.24576625]\n",
      "10 day output [[0.24474266]]\n",
      "11 day input [0.28123877 0.27255338 0.28936585 0.25467768 0.26015885 0.26104244\n",
      " 0.26538271 0.26223674 0.25134723 0.2586582  0.25555977 0.25341046\n",
      " 0.25182101 0.25060239 0.24955083 0.2486006  0.24766149 0.2467411\n",
      " 0.24576625 0.24474266]\n",
      "11 day output [[0.2436928]]\n",
      "12 day input [0.27255338 0.28936585 0.25467768 0.26015885 0.26104244 0.26538271\n",
      " 0.26223674 0.25134723 0.2586582  0.25555977 0.25341046 0.25182101\n",
      " 0.25060239 0.24955083 0.2486006  0.24766149 0.2467411  0.24576625\n",
      " 0.24474266 0.2436928 ]\n",
      "12 day output [[0.2426603]]\n",
      "13 day input [0.28936585 0.25467768 0.26015885 0.26104244 0.26538271 0.26223674\n",
      " 0.25134723 0.2586582  0.25555977 0.25341046 0.25182101 0.25060239\n",
      " 0.24955083 0.2486006  0.24766149 0.2467411  0.24576625 0.24474266\n",
      " 0.2436928  0.2426603 ]\n",
      "13 day output [[0.24163732]]\n",
      "14 day input [0.25467768 0.26015885 0.26104244 0.26538271 0.26223674 0.25134723\n",
      " 0.2586582  0.25555977 0.25341046 0.25182101 0.25060239 0.24955083\n",
      " 0.2486006  0.24766149 0.2467411  0.24576625 0.24474266 0.2436928\n",
      " 0.2426603  0.24163732]\n",
      "14 day output [[0.2405873]]\n",
      "15 day input [0.26015885 0.26104244 0.26538271 0.26223674 0.25134723 0.2586582\n",
      " 0.25555977 0.25341046 0.25182101 0.25060239 0.24955083 0.2486006\n",
      " 0.24766149 0.2467411  0.24576625 0.24474266 0.2436928  0.2426603\n",
      " 0.24163732 0.24058729]\n",
      "15 day output [[0.23957115]]\n",
      "16 day input [0.26104244 0.26538271 0.26223674 0.25134723 0.2586582  0.25555977\n",
      " 0.25341046 0.25182101 0.25060239 0.24955083 0.2486006  0.24766149\n",
      " 0.2467411  0.24576625 0.24474266 0.2436928  0.2426603  0.24163732\n",
      " 0.24058729 0.23957115]\n",
      "16 day output [[0.23851474]]\n",
      "17 day input [0.26538271 0.26223674 0.25134723 0.2586582  0.25555977 0.25341046\n",
      " 0.25182101 0.25060239 0.24955083 0.2486006  0.24766149 0.2467411\n",
      " 0.24576625 0.24474266 0.2436928  0.2426603  0.24163732 0.24058729\n",
      " 0.23957115 0.23851474]\n",
      "17 day output [[0.2374384]]\n",
      "18 day input [0.26223674 0.25134723 0.2586582  0.25555977 0.25341046 0.25182101\n",
      " 0.25060239 0.24955083 0.2486006  0.24766149 0.2467411  0.24576625\n",
      " 0.24474266 0.2436928  0.2426603  0.24163732 0.24058729 0.23957115\n",
      " 0.23851474 0.2374384 ]\n",
      "18 day output [[0.23634563]]\n",
      "19 day input [0.25134723 0.2586582  0.25555977 0.25341046 0.25182101 0.25060239\n",
      " 0.24955083 0.2486006  0.24766149 0.2467411  0.24576625 0.24474266\n",
      " 0.2436928  0.2426603  0.24163732 0.24058729 0.23957115 0.23851474\n",
      " 0.2374384  0.23634563]\n",
      "19 day output [[0.23524961]]\n",
      "20 day input [0.2586582  0.25555977 0.25341046 0.25182101 0.25060239 0.24955083\n",
      " 0.2486006  0.24766149 0.2467411  0.24576625 0.24474266 0.2436928\n",
      " 0.2426603  0.24163732 0.24058729 0.23957115 0.23851474 0.2374384\n",
      " 0.23634563 0.23524961]\n",
      "20 day output [[0.23415315]]\n",
      "21 day input [0.25555977 0.25341046 0.25182101 0.25060239 0.24955083 0.2486006\n",
      " 0.24766149 0.2467411  0.24576625 0.24474266 0.2436928  0.2426603\n",
      " 0.24163732 0.24058729 0.23957115 0.23851474 0.2374384  0.23634563\n",
      " 0.23524961 0.23415315]\n",
      "21 day output [[0.23303321]]\n",
      "22 day input [0.25341046 0.25182101 0.25060239 0.24955083 0.2486006  0.24766149\n",
      " 0.2467411  0.24576625 0.24474266 0.2436928  0.2426603  0.24163732\n",
      " 0.24058729 0.23957115 0.23851474 0.2374384  0.23634563 0.23524961\n",
      " 0.23415315 0.23303321]\n",
      "22 day output [[0.23190992]]\n",
      "23 day input [0.25182101 0.25060239 0.24955083 0.2486006  0.24766149 0.2467411\n",
      " 0.24576625 0.24474266 0.2436928  0.2426603  0.24163732 0.24058729\n",
      " 0.23957115 0.23851474 0.2374384  0.23634563 0.23524961 0.23415315\n",
      " 0.23303321 0.23190992]\n",
      "23 day output [[0.23078002]]\n",
      "24 day input [0.25060239 0.24955083 0.2486006  0.24766149 0.2467411  0.24576625\n",
      " 0.24474266 0.2436928  0.2426603  0.24163732 0.24058729 0.23957115\n",
      " 0.23851474 0.2374384  0.23634563 0.23524961 0.23415315 0.23303321\n",
      " 0.23190992 0.23078002]\n",
      "24 day output [[0.22964232]]\n",
      "25 day input [0.24955083 0.2486006  0.24766149 0.2467411  0.24576625 0.24474266\n",
      " 0.2436928  0.2426603  0.24163732 0.24058729 0.23957115 0.23851474\n",
      " 0.2374384  0.23634563 0.23524961 0.23415315 0.23303321 0.23190992\n",
      " 0.23078002 0.22964232]\n",
      "25 day output [[0.2284966]]\n",
      "26 day input [0.2486006  0.24766149 0.2467411  0.24576625 0.24474266 0.2436928\n",
      " 0.2426603  0.24163732 0.24058729 0.23957115 0.23851474 0.2374384\n",
      " 0.23634563 0.23524961 0.23415315 0.23303321 0.23190992 0.23078002\n",
      " 0.22964232 0.2284966 ]\n",
      "26 day output [[0.22734311]]\n",
      "27 day input [0.24766149 0.2467411  0.24576625 0.24474266 0.2436928  0.2426603\n",
      " 0.24163732 0.24058729 0.23957115 0.23851474 0.2374384  0.23634563\n",
      " 0.23524961 0.23415315 0.23303321 0.23190992 0.23078002 0.22964232\n",
      " 0.2284966  0.22734311]\n",
      "27 day output [[0.22618221]]\n",
      "28 day input [0.2467411  0.24576625 0.24474266 0.2436928  0.2426603  0.24163732\n",
      " 0.24058729 0.23957115 0.23851474 0.2374384  0.23634563 0.23524961\n",
      " 0.23415315 0.23303321 0.23190992 0.23078002 0.22964232 0.2284966\n",
      " 0.22734311 0.22618221]\n",
      "28 day output [[0.22501414]]\n",
      "29 day input [0.24576625 0.24474266 0.2436928  0.2426603  0.24163732 0.24058729\n",
      " 0.23957115 0.23851474 0.2374384  0.23634563 0.23524961 0.23415315\n",
      " 0.23303321 0.23190992 0.23078002 0.22964232 0.2284966  0.22734311\n",
      " 0.22618221 0.22501414]\n",
      "29 day output [[0.22383909]]\n",
      "[[0.25865820050239563], [0.2555597722530365], [0.2534104585647583], [0.25182101130485535], [0.2506023943424225], [0.24955083429813385], [0.24860060214996338], [0.24766148626804352], [0.24674110114574432], [0.24576625227928162], [0.24474266171455383], [0.2436928004026413], [0.2426602989435196], [0.24163731932640076], [0.2405872941017151], [0.23957115411758423], [0.2385147362947464], [0.2374383956193924], [0.23634563386440277], [0.2352496087551117], [0.234153151512146], [0.2330332100391388], [0.23190991580486298], [0.23078002035617828], [0.22964231669902802], [0.22849659621715546], [0.2273431122303009], [0.22618220746517181], [0.22501413524150848], [0.22383908927440643]]\n"
     ]
    }
   ],
   "source": [
    "from numpy import array\n",
    "\n",
    "lst_output=[]\n",
    "n_steps=20\n",
    "i=0\n",
    "while(i<30):\n",
    "    \n",
    "    if(len(temp_input)>20):\n",
    "        #print(temp_input)\n",
    "        x_input=np.array(temp_input[1:])\n",
    "        print(\"{} day input {}\".format(i,x_input))\n",
    "        x_input=x_input.reshape(1,-1)\n",
    "        x_input = x_input.reshape((1, n_steps, 1))\n",
    "        #print(x_input)\n",
    "        yhat = model.predict(x_input, verbose=0)\n",
    "        print(\"{} day output {}\".format(i,yhat))\n",
    "        temp_input.extend(yhat[0].tolist())\n",
    "        temp_input=temp_input[1:]\n",
    "        #print(temp_input)\n",
    "        lst_output.extend(yhat.tolist())\n",
    "        i=i+1\n",
    "    else:\n",
    "        x_input = x_input.reshape((1, n_steps,1))\n",
    "        yhat = model.predict(x_input, verbose=0)\n",
    "        print(yhat[0])\n",
    "        temp_input.extend(yhat[0].tolist())\n",
    "        print(len(temp_input))\n",
    "        lst_output.extend(yhat.tolist())\n",
    "        i=i+1\n",
    "    \n",
    "\n",
    "print(lst_output)"
   ]
  },
  {
   "cell_type": "code",
   "execution_count": 26,
   "id": "ed9bb7cb",
   "metadata": {},
   "outputs": [
    {
     "data": {
      "text/plain": [
       "[<matplotlib.lines.Line2D at 0x2170b33c760>]"
      ]
     },
     "execution_count": 26,
     "metadata": {},
     "output_type": "execute_result"
    },
    {
     "data": {
      "image/png": "[encoded data removed]",
      "text/plain": [
       "<Figure size 432x288 with 1 Axes>"
      ]
     },
     "metadata": {
      "needs_background": "light"
     },
     "output_type": "display_data"
    }
   ],
   "source": [
    "plt.plot(scaler.inverse_transform(lst_output))"
   ]
  },
  {
   "cell_type": "code",
   "execution_count": 32,
   "id": "a702c661",
   "metadata": {},
   "outputs": [
    {
     "data": {
      "text/plain": [
       "[<matplotlib.lines.Line2D at 0x2170c8b6b80>]"
      ]
     },
     "execution_count": 32,
     "metadata": {},
     "output_type": "execute_result"
    },
    {
     "data": {
      "image/png": "[encoded data removed]",
      "text/plain": [
       "<Figure size 432x288 with 1 Axes>"
      ]
     },
     "metadata": {
      "needs_background": "light"
     },
     "output_type": "display_data"
    }
   ],
   "source": [
    "plt.plot(scaler.inverse_transform(df1))\n",
    "plt.plot(np.arange(1260,1290),scaler.inverse_transform(lst_output))"
   ]
  }
 ],
 "metadata": {
  "kernelspec": {
   "display_name": "Python 3 (ipykernel)",
   "language": "python",
   "name": "python3"
  },
  "language_info": {
   "codemirror_mode": {
    "name": "ipython",
    "version": 3
   },
   "file_extension": ".py",
   "mimetype": "text/x-python",
   "name": "python",
   "nbconvert_exporter": "python",
   "pygments_lexer": "ipython3",
   "version": "3.9.7"
  }
 },
 "nbformat": 4,
 "nbformat_minor": 5
}
